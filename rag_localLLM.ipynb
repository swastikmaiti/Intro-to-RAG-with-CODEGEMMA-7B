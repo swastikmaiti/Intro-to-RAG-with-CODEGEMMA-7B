{
 "cells": [
  {
   "cell_type": "code",
   "execution_count": null,
   "metadata": {},
   "outputs": [],
   "source": [
    "import vector_database"
   ]
  },
  {
   "cell_type": "code",
   "execution_count": 2,
   "metadata": {},
   "outputs": [],
   "source": [
    "user_prompt = \"ax.legend(handles[::-1], labels[::-1], title='Line', loc='upper left')\"\n",
    "user_prompt = input('Enter python coding query')"
   ]
  },
  {
   "cell_type": "code",
   "execution_count": 3,
   "metadata": {},
   "outputs": [],
   "source": [
    "from vector_database import qdrant,encoder"
   ]
  },
  {
   "cell_type": "code",
   "execution_count": 4,
   "metadata": {},
   "outputs": [
    {
     "name": "stdout",
     "output_type": "stream",
     "text": [
      "{'intent': 'sort a list of strings `list`', 'snippet': 'list.sort()'} score: 0.7975705560626234\n",
      "{'intent': 'sort a list of strings `list`', 'snippet': 'list.sort()'} score: 0.7975705560626234\n",
      "{'intent': 'sorting the lists in list of lists `data`', 'snippet': '[sorted(item) for item in data]'} score: 0.7578674407026844\n"
     ]
    }
   ],
   "source": [
    "hits = qdrant.search(\n",
    "    collection_name='conala',\n",
    "    query_vector=encoder.encode(user_prompt).tolist(),\n",
    "    limit=3\n",
    ")\n",
    "for hit in hits:\n",
    "  print(hit.payload, \"score:\", hit.score)"
   ]
  },
  {
   "cell_type": "code",
   "execution_count": 5,
   "metadata": {},
   "outputs": [],
   "source": [
    "\n",
    "# define a variable to hold the search results\n",
    "search_results = [(hit.payload,hit.score) for hit in hits]"
   ]
  },
  {
   "cell_type": "code",
   "execution_count": 6,
   "metadata": {},
   "outputs": [
    {
     "data": {
      "text/plain": [
       "[{'intent': 'sort a list of strings `list`', 'snippet': 'list.sort()'},\n",
       " {'intent': 'sorting the lists in list of lists `data`',\n",
       "  'snippet': '[sorted(item) for item in data]'}]"
      ]
     },
     "execution_count": 6,
     "metadata": {},
     "output_type": "execute_result"
    }
   ],
   "source": [
    "filtered_search_results = []\n",
    "score_results = []\n",
    "for item in search_results:\n",
    "    if item[1] not in score_results:\n",
    "        filtered_search_results.append(item[0])\n",
    "    score_results.append(item[1])\n",
    "filtered_search_results"
   ]
  },
  {
   "cell_type": "code",
   "execution_count": 8,
   "metadata": {},
   "outputs": [],
   "source": [
    "# Now time to connect to the local large language model\n",
    "from openai import OpenAI\n",
    "client = OpenAI(\n",
    "    base_url=\"http://127.0.0.1:8080/v1\", # \"http://<Your api-server IP>:port\"\n",
    "    api_key = \"sk-no-key-required\"\n",
    ")\n",
    "completion = client.chat.completions.create(\n",
    "    model=\"LLaMA_CPP\",\n",
    "    messages=[\n",
    "        {\"role\": \"system\", \"content\": \"You are chatbot, a python coder. Your top priority is to help guide users with python code for the problem they have.\"},\n",
    "        {\"role\": \"user\", \"content\": user_prompt},\n",
    "        {\"role\": \"assistant\", \"content\": str(filtered_search_results)[1:-1]}\n",
    "    ]\n",
    ")"
   ]
  },
  {
   "cell_type": "markdown",
   "metadata": {},
   "source": [
    "##### Check how the LLM was able to create new information based on infomation retrieved from vector search."
   ]
  },
  {
   "cell_type": "code",
   "execution_count": null,
   "metadata": {},
   "outputs": [
    {
     "name": "stdout",
     "output_type": "stream",
     "text": [
      "{'intent': 'sorting the lists in list of lists `data`', 'snippet': '[sorted(item) for item in data]'}, {'intent': 'sorting the lists in list of lists `data` with custom sorting function `func`', 'snippet': '[sorted(item, key=func) for item in data]'}\n"
     ]
    }
   ],
   "source": [
    "llm_output = completion.choices[0].message.content\n",
    "print(llm_output)"
   ]
  },
  {
   "cell_type": "code",
   "execution_count": null,
   "metadata": {},
   "outputs": [],
   "source": []
  },
  {
   "cell_type": "code",
   "execution_count": null,
   "metadata": {},
   "outputs": [],
   "source": []
  }
 ],
 "metadata": {
  "kernelspec": {
   "display_name": "rag_colana_env",
   "language": "python",
   "name": "python3"
  },
  "language_info": {
   "codemirror_mode": {
    "name": "ipython",
    "version": 3
   },
   "file_extension": ".py",
   "mimetype": "text/x-python",
   "name": "python",
   "nbconvert_exporter": "python",
   "pygments_lexer": "ipython3",
   "version": "3.11.5"
  }
 },
 "nbformat": 4,
 "nbformat_minor": 2
}
